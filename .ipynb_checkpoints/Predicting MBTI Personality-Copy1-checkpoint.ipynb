{
 "cells": [
  {
   "cell_type": "code",
   "execution_count": 1,
   "metadata": {},
   "outputs": [
    {
     "name": "stderr",
     "output_type": "stream",
     "text": [
      "c:\\users\\rafe\\appdata\\local\\programs\\python\\python35-32\\lib\\importlib\\_bootstrap.py:222: RuntimeWarning: numpy.dtype size changed, may indicate binary incompatibility. Expected 52 from C header, got 56 from PyObject\n",
      "  return f(*args, **kwds)\n"
     ]
    }
   ],
   "source": [
    "import pandas as pd\n",
    "import numpy as np\n",
    "import matplotlib.pyplot as plt\n",
    "import seaborn as sns"
   ]
  },
  {
   "cell_type": "code",
   "execution_count": 2,
   "metadata": {},
   "outputs": [
    {
     "data": {
      "text/html": [
       "<div>\n",
       "<style scoped>\n",
       "    .dataframe tbody tr th:only-of-type {\n",
       "        vertical-align: middle;\n",
       "    }\n",
       "\n",
       "    .dataframe tbody tr th {\n",
       "        vertical-align: top;\n",
       "    }\n",
       "\n",
       "    .dataframe thead th {\n",
       "        text-align: right;\n",
       "    }\n",
       "</style>\n",
       "<table border=\"1\" class=\"dataframe\">\n",
       "  <thead>\n",
       "    <tr style=\"text-align: right;\">\n",
       "      <th></th>\n",
       "      <th>type</th>\n",
       "      <th>posts</th>\n",
       "    </tr>\n",
       "  </thead>\n",
       "  <tbody>\n",
       "    <tr>\n",
       "      <th>0</th>\n",
       "      <td>INFJ</td>\n",
       "      <td>'http://www.youtube.com/watch?v=qsXHcwe3krw|||...</td>\n",
       "    </tr>\n",
       "    <tr>\n",
       "      <th>1</th>\n",
       "      <td>ENTP</td>\n",
       "      <td>'I'm finding the lack of me in these posts ver...</td>\n",
       "    </tr>\n",
       "    <tr>\n",
       "      <th>2</th>\n",
       "      <td>INTP</td>\n",
       "      <td>'Good one  _____   https://www.youtube.com/wat...</td>\n",
       "    </tr>\n",
       "    <tr>\n",
       "      <th>3</th>\n",
       "      <td>INTJ</td>\n",
       "      <td>'Dear INTP,   I enjoyed our conversation the o...</td>\n",
       "    </tr>\n",
       "    <tr>\n",
       "      <th>4</th>\n",
       "      <td>ENTJ</td>\n",
       "      <td>'You're fired.|||That's another silly misconce...</td>\n",
       "    </tr>\n",
       "    <tr>\n",
       "      <th>5</th>\n",
       "      <td>INTJ</td>\n",
       "      <td>'18/37 @.@|||Science  is not perfect. No scien...</td>\n",
       "    </tr>\n",
       "    <tr>\n",
       "      <th>6</th>\n",
       "      <td>INFJ</td>\n",
       "      <td>'No, I can't draw on my own nails (haha). Thos...</td>\n",
       "    </tr>\n",
       "    <tr>\n",
       "      <th>7</th>\n",
       "      <td>INTJ</td>\n",
       "      <td>'I tend to build up a collection of things on ...</td>\n",
       "    </tr>\n",
       "    <tr>\n",
       "      <th>8</th>\n",
       "      <td>INFJ</td>\n",
       "      <td>I'm not sure, that's a good question. The dist...</td>\n",
       "    </tr>\n",
       "    <tr>\n",
       "      <th>9</th>\n",
       "      <td>INTP</td>\n",
       "      <td>'https://www.youtube.com/watch?v=w8-egj0y8Qs||...</td>\n",
       "    </tr>\n",
       "  </tbody>\n",
       "</table>\n",
       "</div>"
      ],
      "text/plain": [
       "   type                                              posts\n",
       "0  INFJ  'http://www.youtube.com/watch?v=qsXHcwe3krw|||...\n",
       "1  ENTP  'I'm finding the lack of me in these posts ver...\n",
       "2  INTP  'Good one  _____   https://www.youtube.com/wat...\n",
       "3  INTJ  'Dear INTP,   I enjoyed our conversation the o...\n",
       "4  ENTJ  'You're fired.|||That's another silly misconce...\n",
       "5  INTJ  '18/37 @.@|||Science  is not perfect. No scien...\n",
       "6  INFJ  'No, I can't draw on my own nails (haha). Thos...\n",
       "7  INTJ  'I tend to build up a collection of things on ...\n",
       "8  INFJ  I'm not sure, that's a good question. The dist...\n",
       "9  INTP  'https://www.youtube.com/watch?v=w8-egj0y8Qs||..."
      ]
     },
     "execution_count": 2,
     "metadata": {},
     "output_type": "execute_result"
    }
   ],
   "source": [
    "df = pd.read_csv('mbti_1.csv')\n",
    "df.head(10)"
   ]
  },
  {
   "cell_type": "code",
   "execution_count": 3,
   "metadata": {},
   "outputs": [
    {
     "name": "stdout",
     "output_type": "stream",
     "text": [
      "<class 'pandas.core.frame.DataFrame'>\n",
      "RangeIndex: 8675 entries, 0 to 8674\n",
      "Data columns (total 2 columns):\n",
      "type     8675 non-null object\n",
      "posts    8675 non-null object\n",
      "dtypes: object(2)\n",
      "memory usage: 67.8+ KB\n"
     ]
    }
   ],
   "source": [
    "df.info()"
   ]
  },
  {
   "cell_type": "code",
   "execution_count": 25,
   "metadata": {},
   "outputs": [
    {
     "data": {
      "text/plain": [
       "<matplotlib.axes._subplots.AxesSubplot at 0x1da7ca30>"
      ]
     },
     "execution_count": 25,
     "metadata": {},
     "output_type": "execute_result"
    },
    {
     "data": {
      "image/png": "[encoded data removed]",
      "text/plain": [
       "<Figure size 576x288 with 1 Axes>"
      ]
     },
     "metadata": {},
     "output_type": "display_data"
    }
   ],
   "source": [
    "plt.figure(figsize=(8,4))\n",
    "sns.countplot(df.type)"
   ]
  },
  {
   "cell_type": "markdown",
   "metadata": {},
   "source": [
    "looks like classes are pretty Imbalanced. What should be done?"
   ]
  },
  {
   "cell_type": "code",
   "execution_count": 36,
   "metadata": {},
   "outputs": [
    {
     "data": {
      "text/plain": [
       "0     90.0\n",
       "1    138.0\n",
       "2    102.0\n",
       "3    122.0\n",
       "4    119.0\n",
       "Name: avg_post_length, dtype: float64"
      ]
     },
     "execution_count": 36,
     "metadata": {},
     "output_type": "execute_result"
    }
   ],
   "source": [
    "def post_length(text):\n",
    "    return np.round(np.mean([len(p) for p in text.split('|||')]))\n",
    "\n",
    "df['avg_post_length'] = df.posts.apply(post_length)\n",
    "df['avg_post_length'].head()"
   ]
  },
  {
   "cell_type": "code",
   "execution_count": 38,
   "metadata": {},
   "outputs": [
    {
     "name": "stderr",
     "output_type": "stream",
     "text": [
      "c:\\users\\rafe\\appdata\\local\\programs\\python\\python35-32\\lib\\site-packages\\scipy\\stats\\stats.py:1706: FutureWarning: Using a non-tuple sequence for multidimensional indexing is deprecated; use `arr[tuple(seq)]` instead of `arr[seq]`. In the future this will be interpreted as an array index, `arr[np.array(seq)]`, which will result either in an error or a different result.\n",
      "  return np.add.reduce(sorted[indexer] * weights, axis=axis) / sumval\n"
     ]
    },
    {
     "data": {
      "text/plain": [
       "<matplotlib.axes._subplots.AxesSubplot at 0x1d7fa830>"
      ]
     },
     "execution_count": 38,
     "metadata": {},
     "output_type": "execute_result"
    },
    {
     "data": {
      "image/png": "[encoded data removed]",
      "text/plain": [
       "<Figure size 576x360 with 1 Axes>"
      ]
     },
     "metadata": {},
     "output_type": "display_data"
    }
   ],
   "source": [
    "plt.figure(figsize=(8,5))\n",
    "sns.barplot(x='type', y='avg_post_length', data=df)"
   ]
  },
  {
   "cell_type": "code",
   "execution_count": 39,
   "metadata": {},
   "outputs": [],
   "source": [
    "from nltk.corpus import stopwords\n",
    "stop_words = stopwords.words(\"english\")\n",
    "\n",
    "\n",
    "def stopword_ratio(text):\n",
    "    return len([word for word in text.split(' ') if word in stop_words])/len(text.split(' '))\n",
    "\n",
    "df['stopword_ratio'] = df.posts.apply(stopword_ratio)"
   ]
  },
  {
   "cell_type": "code",
   "execution_count": 40,
   "metadata": {},
   "outputs": [
    {
     "name": "stderr",
     "output_type": "stream",
     "text": [
      "c:\\users\\rafe\\appdata\\local\\programs\\python\\python35-32\\lib\\site-packages\\scipy\\stats\\stats.py:1706: FutureWarning: Using a non-tuple sequence for multidimensional indexing is deprecated; use `arr[tuple(seq)]` instead of `arr[seq]`. In the future this will be interpreted as an array index, `arr[np.array(seq)]`, which will result either in an error or a different result.\n",
      "  return np.add.reduce(sorted[indexer] * weights, axis=axis) / sumval\n"
     ]
    },
    {
     "data": {
      "text/plain": [
       "<matplotlib.axes._subplots.AxesSubplot at 0x10faad0>"
      ]
     },
     "execution_count": 40,
     "metadata": {},
     "output_type": "execute_result"
    },
    {
     "data": {
      "image/png": "[encoded data removed]",
      "text/plain": [
       "<Figure size 576x360 with 1 Axes>"
      ]
     },
     "metadata": {},
     "output_type": "display_data"
    }
   ],
   "source": [
    "plt.figure(figsize=(8,5))\n",
    "sns.barplot(x='type', y='stopword_ratio', data=df)"
   ]
  },
  {
   "cell_type": "code",
   "execution_count": 56,
   "metadata": {},
   "outputs": [],
   "source": [
    "import re\n",
    "import string\n",
    "from nltk.corpus import stopwords\n",
    "from nltk.stem import PorterStemmer\n",
    "stop_words = stopwords.words(\"english\")\n",
    "PS = PorterStemmer()\n",
    " \n",
    "def text_preprocess(x):\n",
    "  x = x.lower()\n",
    "  x = ' '.join([word for word in x.split(' ') if word not in stop_words])\n",
    "  x = x.encode('ascii', 'ignore').decode()\n",
    "  x = re.sub(r'https*\\S+', ' ', x)   # removing links\n",
    "  x = re.sub(r'@\\S+', ' ', x)      # removing mentions\n",
    "  x = re.sub(r'#\\S+', ' ', x)    # removing hashtags\n",
    "  x = re.sub(r'\\'\\w+', '', x)   # removing ticks and next character\n",
    "  x = re.sub('[%s]' % re.escape(string.punctuation), ' ', x)  # removing punctuations\n",
    "  x = re.sub(r'\\w*\\d+\\w*', '', x)    # removing numbers\n",
    "  x = re.sub(r'\\s{2,}', ' ', x)   # removing extra spaces\n",
    "  x = ' '.join([PS.stem(word) for word in x.split(' ')])\n",
    "  return x"
   ]
  },
  {
   "cell_type": "code",
   "execution_count": 57,
   "metadata": {},
   "outputs": [
    {
     "data": {
      "text/plain": [
       "' intj moment sportscent top ten play prank what life chang experi life repeat today may perc experi immers you the last thing infj friend post facebook commit suicid next day rest peac sorri hear distress natur relationship perfect time everi moment exist tri figur hard time time growth as welcom stuff game set match prozac wellbrutin least thirti minut move leg and mean move sit desk chair weed moder mayb tri edibl healthier altern basic come three item determin type or whichev type want do would like use given type cognit function whatnot left by all thing moder sim inde video game good one that note good one somewhat subject complet promot death given sim dear enfp favorit video game grow now current favorit video game cool appear late sad there someon everyon wait thought confid good thing i cherish time solitud b c revel within inner world wherea time i workin enjoy time can worri peopl alway around to yo entp ladi complimentari person well hey main social outlet xbox live convers even verbal fatigu quickli realli dig part thread requir me get high backyard roast eat marshmellow backyard convers someth intellectu follow massag kiss mani b sentenc could you think b ban watch movi corner dunc ban health class clearli taught noth peer pressur ban whole host reason two babi deer left right munch beetl middl use blood two cavemen diari today latest happen design cave diari wall see as a pokemon world infj societi everyon becom optimist artist artist draw idea count form someth own like signatur welcom robot rank person down self esteem cuz i avid signatur artist like herself proud ban take room bed ya gotta learn share roach much thunder grumbl kind storm yep ahh old high school music heard age fail public speak class year ago i sort learn could better posit again big part failur overload too i like person mental he confirm intj way denver area start new life myself '"
      ]
     },
     "execution_count": 57,
     "metadata": {},
     "output_type": "execute_result"
    }
   ],
   "source": [
    "df['clean_posts'] = df.posts.apply(text_preprocess)\n",
    "# df['clean_posts'][0]"
   ]
  },
  {
   "cell_type": "markdown",
   "metadata": {},
   "source": [
    "### Creating New Columns corresponding to 4 pairs of MBTI i.e I-E , N-S, T-F, J-P\n",
    "\n",
    "To convert 1 Multiclass Classification problem to 4 Binary Classification problems. "
   ]
  },
  {
   "cell_type": "code",
   "execution_count": 58,
   "metadata": {},
   "outputs": [
    {
     "name": "stdout",
     "output_type": "stream",
     "text": [
      "I    6676\n",
      "E    1999\n",
      "Name: IE, dtype: int64\n",
      "N    7478\n",
      "S    1197\n",
      "Name: NS, dtype: int64\n",
      "F    4694\n",
      "T    3981\n",
      "Name: TF, dtype: int64\n",
      "P    5241\n",
      "J    3434\n",
      "Name: JP, dtype: int64\n"
     ]
    }
   ],
   "source": [
    "df['IE'] = df.type.apply(lambda name: name[0])\n",
    "df['NS'] = df.type.apply(lambda name: name[1])\n",
    "df['TF'] = df.type.apply(lambda name: name[2])\n",
    "df['JP'] = df.type.apply(lambda name: name[3])\n",
    "\n",
    "print(df.IE.value_counts())\n",
    "print(df.NS.value_counts())\n",
    "print(df.TF.value_counts())\n",
    "print(df.JP.value_counts())"
   ]
  },
  {
   "cell_type": "code",
   "execution_count": 59,
   "metadata": {},
   "outputs": [
    {
     "data": {
      "text/plain": [
       "Index(['type', 'posts', 'avg_post_length', 'stopword_ratio', 'clean_posts',\n",
       "       'IE', 'NS', 'TF', 'JP'],\n",
       "      dtype='object')"
      ]
     },
     "execution_count": 59,
     "metadata": {},
     "output_type": "execute_result"
    }
   ],
   "source": [
    "df.columns"
   ]
  },
  {
   "cell_type": "code",
   "execution_count": 79,
   "metadata": {},
   "outputs": [],
   "source": [
    "# df.to_csv('mbti_cleaned_dataset.csv', index=False)"
   ]
  },
  {
   "cell_type": "code",
   "execution_count": 80,
   "metadata": {},
   "outputs": [],
   "source": [
    "# trial = pd.read_csv('mbti_cleaned_dataset.csv')\n",
    "# trial.columns"
   ]
  },
  {
   "cell_type": "markdown",
   "metadata": {},
   "source": [
    "## Training and Testing"
   ]
  },
  {
   "cell_type": "code",
   "execution_count": null,
   "metadata": {},
   "outputs": [],
   "source": [
    "df = pd.read_csv('mbti_cleaned_dataset.csv')\n",
    "df.columns"
   ]
  },
  {
   "cell_type": "code",
   "execution_count": 60,
   "metadata": {},
   "outputs": [],
   "source": [
    "from sklearn.model_selection import train_test_split\n",
    "\n",
    "X = df.clean_posts.copy()\n",
    "y = df.type.copy()\n",
    "\n",
    "X_train, X_test, y_train, y_test = train_test_split(X, y, test_size=0.2, random_state=101)"
   ]
  },
  {
   "cell_type": "code",
   "execution_count": 61,
   "metadata": {},
   "outputs": [],
   "source": [
    "from sklearn.feature_extraction.text import CountVectorizer, TfidfVectorizer\n",
    "\n",
    "tfidf = TfidfVectorizer(stop_words='english')\n",
    "tfidf.fit(X_train)\n",
    "\n",
    "X_train_tfidf = tfidf.transform(X_train)\n",
    "X_test_tfidf = tfidf.transform(X_test)"
   ]
  },
  {
   "cell_type": "code",
   "execution_count": 62,
   "metadata": {},
   "outputs": [],
   "source": [
    "## Model Comparison \n",
    "\n",
    "from sklearn.naive_bayes import MultinomialNB\n",
    "from sklearn.linear_model import LogisticRegression\n",
    "from sklearn.svm import LinearSVC\n",
    "from sklearn.neighbors import KNeighborsClassifier\n",
    "\n",
    "mnb = MultinomialNB()\n",
    "lr = LogisticRegression()\n",
    "svc = LinearSVC()\n",
    "knn = KNeighborsClassifier()"
   ]
  },
  {
   "cell_type": "code",
   "execution_count": 63,
   "metadata": {},
   "outputs": [
    {
     "name": "stderr",
     "output_type": "stream",
     "text": [
      "c:\\users\\rafe\\appdata\\local\\programs\\python\\python35-32\\lib\\site-packages\\sklearn\\linear_model\\logistic.py:433: FutureWarning: Default solver will be changed to 'lbfgs' in 0.22. Specify a solver to silence this warning.\n",
      "  FutureWarning)\n",
      "c:\\users\\rafe\\appdata\\local\\programs\\python\\python35-32\\lib\\site-packages\\sklearn\\linear_model\\logistic.py:460: FutureWarning: Default multi_class will be changed to 'auto' in 0.22. Specify the multi_class option to silence this warning.\n",
      "  \"this warning.\", FutureWarning)\n"
     ]
    },
    {
     "data": {
      "text/plain": [
       "KNeighborsClassifier(algorithm='auto', leaf_size=30, metric='minkowski',\n",
       "           metric_params=None, n_jobs=None, n_neighbors=5, p=2,\n",
       "           weights='uniform')"
      ]
     },
     "execution_count": 63,
     "metadata": {},
     "output_type": "execute_result"
    }
   ],
   "source": [
    "mnb.fit(X_train_tfidf, y_train)\n",
    "lr.fit(X_train_tfidf, y_train)\n",
    "svc.fit(X_train_tfidf, y_train)\n",
    "knn.fit(X_train_tfidf, y_train)"
   ]
  },
  {
   "cell_type": "code",
   "execution_count": 64,
   "metadata": {},
   "outputs": [],
   "source": [
    "## Evaluation\n",
    "\n",
    "from sklearn.metrics import accuracy_score, confusion_matrix, classification_report\n",
    "\n",
    "def report(model):\n",
    "    preds = model.predict(X_test_tfidf)\n",
    "    print(accuracy_score(y_test, preds))\n",
    "    print(classification_report(y_test, preds))\n",
    "    print(confusion_matrix(y_test, preds))"
   ]
  },
  {
   "cell_type": "code",
   "execution_count": 65,
   "metadata": {},
   "outputs": [
    {
     "name": "stdout",
     "output_type": "stream",
     "text": [
      "MNB mdoel\n",
      "0.20922190201729107\n"
     ]
    },
    {
     "name": "stderr",
     "output_type": "stream",
     "text": [
      "c:\\users\\rafe\\appdata\\local\\programs\\python\\python35-32\\lib\\site-packages\\sklearn\\metrics\\classification.py:1143: UndefinedMetricWarning: Precision and F-score are ill-defined and being set to 0.0 in labels with no predicted samples.\n",
      "  'precision', 'predicted', average, warn_for)\n"
     ]
    },
    {
     "name": "stdout",
     "output_type": "stream",
     "text": [
      "              precision    recall  f1-score   support\n",
      "\n",
      "        ENFJ       0.00      0.00      0.00        48\n",
      "        ENFP       0.00      0.00      0.00       126\n",
      "        ENTJ       0.00      0.00      0.00        46\n",
      "        ENTP       0.00      0.00      0.00       139\n",
      "        ESFJ       0.00      0.00      0.00         3\n",
      "        ESFP       0.00      0.00      0.00        15\n",
      "        ESTJ       0.00      0.00      0.00         8\n",
      "        ESTP       0.00      0.00      0.00        17\n",
      "        INFJ       0.50      0.00      0.01       280\n",
      "        INFP       0.21      1.00      0.35       362\n",
      "        INTJ       0.00      0.00      0.00       217\n",
      "        INTP       0.00      0.00      0.00       294\n",
      "        ISFJ       0.00      0.00      0.00        29\n",
      "        ISFP       0.00      0.00      0.00        48\n",
      "        ISTJ       0.00      0.00      0.00        39\n",
      "        ISTP       0.00      0.00      0.00        64\n",
      "\n",
      "   micro avg       0.21      0.21      0.21      1735\n",
      "   macro avg       0.04      0.06      0.02      1735\n",
      "weighted avg       0.12      0.21      0.07      1735\n",
      "\n",
      "[[  0   0   0   0   0   0   0   0   0  48   0   0   0   0   0   0]\n",
      " [  0   0   0   0   0   0   0   0   0 126   0   0   0   0   0   0]\n",
      " [  0   0   0   0   0   0   0   0   0  46   0   0   0   0   0   0]\n",
      " [  0   0   0   0   0   0   0   0   0 139   0   0   0   0   0   0]\n",
      " [  0   0   0   0   0   0   0   0   0   3   0   0   0   0   0   0]\n",
      " [  0   0   0   0   0   0   0   0   0  15   0   0   0   0   0   0]\n",
      " [  0   0   0   0   0   0   0   0   0   8   0   0   0   0   0   0]\n",
      " [  0   0   0   0   0   0   0   0   0  17   0   0   0   0   0   0]\n",
      " [  0   0   0   0   0   0   0   0   1 279   0   0   0   0   0   0]\n",
      " [  0   0   0   0   0   0   0   0   0 362   0   0   0   0   0   0]\n",
      " [  0   0   0   0   0   0   0   0   0 217   0   0   0   0   0   0]\n",
      " [  0   0   0   0   0   0   0   0   0 294   0   0   0   0   0   0]\n",
      " [  0   0   0   0   0   0   0   0   0  29   0   0   0   0   0   0]\n",
      " [  0   0   0   0   0   0   0   0   0  48   0   0   0   0   0   0]\n",
      " [  0   0   0   0   0   0   0   0   1  38   0   0   0   0   0   0]\n",
      " [  0   0   0   0   0   0   0   0   0  64   0   0   0   0   0   0]]\n",
      "lr mdoel\n",
      "0.6622478386167147\n",
      "              precision    recall  f1-score   support\n",
      "\n",
      "        ENFJ       0.67      0.17      0.27        48\n",
      "        ENFP       0.70      0.54      0.61       126\n",
      "        ENTJ       0.67      0.17      0.28        46\n",
      "        ENTP       0.82      0.59      0.69       139\n",
      "        ESFJ       1.00      0.33      0.50         3\n",
      "        ESFP       0.00      0.00      0.00        15\n",
      "        ESTJ       0.00      0.00      0.00         8\n",
      "        ESTP       0.67      0.12      0.20        17\n",
      "        INFJ       0.67      0.77      0.72       280\n",
      "        INFP       0.61      0.92      0.73       362\n",
      "        INTJ       0.63      0.69      0.66       217\n",
      "        INTP       0.68      0.73      0.71       294\n",
      "        ISFJ       1.00      0.24      0.39        29\n",
      "        ISFP       0.65      0.35      0.46        48\n",
      "        ISTJ       0.67      0.21      0.31        39\n",
      "        ISTP       0.89      0.53      0.67        64\n",
      "\n",
      "   micro avg       0.66      0.66      0.66      1735\n",
      "   macro avg       0.65      0.40      0.45      1735\n",
      "weighted avg       0.67      0.66      0.64      1735\n",
      "\n",
      "[[  8   4   0   0   0   0   0   0  13  16   2   5   0   0   0   0]\n",
      " [  0  68   0   1   0   0   0   0  15  26  10   3   0   2   1   0]\n",
      " [  0   3   8   4   0   0   0   0   4   8  12   7   0   0   0   0]\n",
      " [  0   3   0  82   0   0   0   0  14   8  10  21   0   1   0   0]\n",
      " [  0   0   0   0   1   0   0   0   0   1   0   0   0   1   0   0]\n",
      " [  0   1   1   1   0   0   0   0   2   6   3   1   0   0   0   0]\n",
      " [  0   1   0   1   0   0   0   0   0   2   2   2   0   0   0   0]\n",
      " [  0   1   1   1   0   0   0   2   4   3   4   1   0   0   0   0]\n",
      " [  2   4   0   2   0   0   0   1 216  38   7  10   0   0   0   0]\n",
      " [  1   1   1   1   0   0   0   0   7 333   5   7   0   4   1   1]\n",
      " [  0   3   0   2   0   0   0   0  18  20 150  23   0   0   1   0]\n",
      " [  0   2   0   5   0   0   0   0  13  43  15 215   0   0   0   1]\n",
      " [  0   2   1   0   0   0   0   0   4   8   1   3   7   1   1   1]\n",
      " [  0   1   0   0   0   0   0   0   6  18   3   2   0  17   0   1]\n",
      " [  1   3   0   0   0   0   0   0   4   7  10   6   0   0   8   0]\n",
      " [  0   0   0   0   0   0   0   0   3  13   5   9   0   0   0  34]]\n",
      "svc mdoel\n",
      "0.6610951008645534\n",
      "              precision    recall  f1-score   support\n",
      "\n",
      "        ENFJ       0.78      0.29      0.42        48\n",
      "        ENFP       0.61      0.59      0.60       126\n",
      "        ENTJ       0.72      0.46      0.56        46\n",
      "        ENTP       0.69      0.63      0.65       139\n",
      "        ESFJ       0.33      0.67      0.44         3\n",
      "        ESFP       1.00      0.07      0.12        15\n",
      "        ESTJ       0.67      0.25      0.36         8\n",
      "        ESTP       0.62      0.29      0.40        17\n",
      "        INFJ       0.66      0.74      0.69       280\n",
      "        INFP       0.67      0.83      0.74       362\n",
      "        INTJ       0.61      0.66      0.64       217\n",
      "        INTP       0.69      0.66      0.67       294\n",
      "        ISFJ       0.73      0.38      0.50        29\n",
      "        ISFP       0.67      0.54      0.60        48\n",
      "        ISTJ       0.66      0.49      0.56        39\n",
      "        ISTP       0.73      0.62      0.67        64\n",
      "\n",
      "   micro avg       0.66      0.66      0.66      1735\n",
      "   macro avg       0.68      0.51      0.54      1735\n",
      "weighted avg       0.67      0.66      0.65      1735\n",
      "\n",
      "[[ 14   5   1   0   0   0   0   0  10  10   4   1   0   0   0   3]\n",
      " [  0  74   0   1   0   0   0   1  11  20  10   4   0   3   2   0]\n",
      " [  0   3  21   3   1   0   0   0   3   2   7   6   0   0   0   0]\n",
      " [  0   6   1  87   0   0   0   0  10   6   7  16   0   2   1   3]\n",
      " [  0   0   0   1   2   0   0   0   0   0   0   0   0   0   0   0]\n",
      " [  0   3   1   1   0   1   0   0   3   3   2   1   0   0   0   0]\n",
      " [  0   0   0   1   0   0   2   0   1   2   0   1   0   1   0   0]\n",
      " [  0   1   0   1   1   0   0   5   2   1   3   3   0   0   0   0]\n",
      " [  3   7   1   5   0   0   0   1 206  31   9  15   0   1   0   1]\n",
      " [  1   7   2   4   1   0   0   1  20 301  10   7   1   4   2   1]\n",
      " [  0   6   1   5   0   0   1   0  19  15 144  19   1   1   2   3]\n",
      " [  0   2   0  14   1   0   0   0  18  36  24 194   2   0   0   3]\n",
      " [  0   0   1   1   0   0   0   0   2   6   2   3  11   1   2   0]\n",
      " [  0   1   0   0   0   0   0   0   4   8   5   3   0  26   0   1]\n",
      " [  0   3   0   1   0   0   0   0   3   3   6   4   0   0  19   0]\n",
      " [  0   3   0   2   0   0   0   0   2   8   3   5   0   0   1  40]]\n",
      "knn mdoel\n",
      "0.3873198847262248\n",
      "              precision    recall  f1-score   support\n",
      "\n",
      "        ENFJ       0.18      0.25      0.21        48\n",
      "        ENFP       0.28      0.51      0.36       126\n",
      "        ENTJ       0.48      0.24      0.32        46\n",
      "        ENTP       0.52      0.32      0.40       139\n",
      "        ESFJ       0.11      0.67      0.18         3\n",
      "        ESFP       0.33      0.07      0.11        15\n",
      "        ESTJ       0.33      0.12      0.18         8\n",
      "        ESTP       0.50      0.41      0.45        17\n",
      "        INFJ       0.41      0.59      0.48       280\n",
      "        INFP       0.36      0.68      0.47       362\n",
      "        INTJ       0.49      0.17      0.25       217\n",
      "        INTP       0.69      0.21      0.33       294\n",
      "        ISFJ       0.35      0.21      0.26        29\n",
      "        ISFP       0.62      0.17      0.26        48\n",
      "        ISTJ       0.40      0.05      0.09        39\n",
      "        ISTP       0.50      0.03      0.06        64\n",
      "\n",
      "   micro avg       0.39      0.39      0.39      1735\n",
      "   macro avg       0.41      0.29      0.28      1735\n",
      "weighted avg       0.46      0.39      0.36      1735\n",
      "\n",
      "[[ 12   5   0   1   2   0   0   0  11  16   1   0   0   0   0   0]\n",
      " [  6  64   0   3   0   0   0   1  12  39   0   0   1   0   0   0]\n",
      " [  1   6  11   2   1   0   1   0   4  13   4   3   0   0   0   0]\n",
      " [  3  23   0  45   0   0   0   0  21  40   3   3   0   1   0   0]\n",
      " [  0   1   0   0   2   0   0   0   0   0   0   0   0   0   0   0]\n",
      " [  1   2   1   0   0   1   0   0   4   5   1   0   0   0   0   0]\n",
      " [  0   1   0   0   0   0   1   0   2   3   0   1   0   0   0   0]\n",
      " [  1   3   0   0   1   0   0   7   2   2   0   1   0   0   0   0]\n",
      " [ 10  14   3   9   1   0   0   1 166  66   6   2   1   0   0   1]\n",
      " [  6  24   2   2   2   1   0   1  62 245   5   5   4   3   0   0]\n",
      " [  7  25   3   6   3   0   1   1  45  74  37  12   1   0   1   1]\n",
      " [ 13  23   1  12   7   0   0   3  47 109  12  63   3   0   1   0]\n",
      " [  0   7   1   2   0   0   0   0   5   6   0   0   6   1   1   0]\n",
      " [  0   7   0   1   0   1   0   0  10  19   1   0   1   8   0   0]\n",
      " [  4   7   0   2   0   0   0   0   6  15   2   1   0   0   2   0]\n",
      " [  3  16   1   1   0   0   0   0   8  30   3   0   0   0   0   2]]\n"
     ]
    }
   ],
   "source": [
    "print('MNB mdoel')\n",
    "report(mnb)\n",
    "\n",
    "print('lr mdoel')\n",
    "report(lr)\n",
    "\n",
    "print('svc mdoel')\n",
    "report(svc)\n",
    "\n",
    "print('knn mdoel')\n",
    "report(knn)"
   ]
  },
  {
   "cell_type": "code",
   "execution_count": 67,
   "metadata": {},
   "outputs": [
    {
     "name": "stderr",
     "output_type": "stream",
     "text": [
      "c:\\users\\rafe\\appdata\\local\\programs\\python\\python35-32\\lib\\site-packages\\sklearn\\linear_model\\logistic.py:433: FutureWarning: Default solver will be changed to 'lbfgs' in 0.22. Specify a solver to silence this warning.\n",
      "  FutureWarning)\n",
      "c:\\users\\rafe\\appdata\\local\\programs\\python\\python35-32\\lib\\site-packages\\sklearn\\linear_model\\logistic.py:460: FutureWarning: Default multi_class will be changed to 'auto' in 0.22. Specify the multi_class option to silence this warning.\n",
      "  \"this warning.\", FutureWarning)\n"
     ]
    },
    {
     "name": "stdout",
     "output_type": "stream",
     "text": [
      "LR\n",
      "0.6622478386167147\n",
      "SVC\n",
      "0.6610951008645534\n"
     ]
    }
   ],
   "source": [
    "lr.fit(X_train_tfidf, y_train)\n",
    "svc.fit(X_train_tfidf, y_train)\n",
    "lr_preds = lr.predict(X_test_tfidf)\n",
    "svc_preds = svc.predict(X_test_tfidf)\n",
    "\n",
    "print('LR')\n",
    "print(accuracy_score(y_test, lr_preds))\n",
    "\n",
    "print('SVC')\n",
    "print(accuracy_score(y_test, svc_preds))"
   ]
  },
  {
   "cell_type": "code",
   "execution_count": 84,
   "metadata": {},
   "outputs": [
    {
     "data": {
      "text/plain": [
       "<bound method BaseEstimator.get_params of LogisticRegression(C=1.0, class_weight=None, dual=False, fit_intercept=True,\n",
       "          intercept_scaling=1, max_iter=100, multi_class='warn',\n",
       "          n_jobs=None, penalty='l2', random_state=None, solver='warn',\n",
       "          tol=0.0001, verbose=0, warm_start=False)>"
      ]
     },
     "execution_count": 84,
     "metadata": {},
     "output_type": "execute_result"
    }
   ],
   "source": [
    "lr.get_params"
   ]
  },
  {
   "cell_type": "code",
   "execution_count": 118,
   "metadata": {},
   "outputs": [
    {
     "data": {
      "text/plain": [
       "array([[0.25140505, 0.74859495]])"
      ]
     },
     "execution_count": 118,
     "metadata": {},
     "output_type": "execute_result"
    }
   ],
   "source": [
    "sample = 'life is so difficult. I am always sad. Trees are really the gift of nature for us'\n",
    "lr.predict_proba(tfidf.transform([text_preprocess(sample)]))"
   ]
  },
  {
   "cell_type": "code",
   "execution_count": 119,
   "metadata": {},
   "outputs": [
    {
     "data": {
      "text/plain": [
       "array(['J', 'P'], dtype=object)"
      ]
     },
     "execution_count": 119,
     "metadata": {},
     "output_type": "execute_result"
    }
   ],
   "source": [
    "lr.classes_"
   ]
  },
  {
   "cell_type": "code",
   "execution_count": null,
   "metadata": {},
   "outputs": [],
   "source": []
  },
  {
   "cell_type": "code",
   "execution_count": 69,
   "metadata": {},
   "outputs": [],
   "source": [
    "def model_train_evaluate(X, y):\n",
    "    X_train, X_test, y_train, y_test = train_test_split(X, y, test_size=0.2, random_state=101)\n",
    "\n",
    "    tfidf = TfidfVectorizer(stop_words='english')\n",
    "    tfidf.fit(X_train)\n",
    "\n",
    "    X_train_tfidf = tfidf.transform(X_train)\n",
    "    X_test_tfidf = tfidf.transform(X_test)\n",
    "\n",
    "    mnb.fit(X_train_tfidf, y_train)\n",
    "    lr.fit(X_train_tfidf, y_train)\n",
    "    svc.fit(X_train_tfidf, y_train)\n",
    "\n",
    "    print('MNB mdoel')\n",
    "    preds = mnb.predict(X_test_tfidf)\n",
    "    #print(classification_report(y_test, preds))\n",
    "    print(accuracy_score(y_test, preds))\n",
    "    print(confusion_matrix(y_test, preds))\n",
    "\n",
    "    print('lr mdoel')\n",
    "    preds = lr.predict(X_test_tfidf)\n",
    "    #print(classification_report(y_test, preds))\n",
    "    print(accuracy_score(y_test, preds))\n",
    "    print(confusion_matrix(y_test, preds))\n",
    "\n",
    "    print('svc mdoel')\n",
    "    preds = svc.predict(X_test_tfidf)\n",
    "    #print(classification_report(y_test, preds))\n",
    "    print(accuracy_score(y_test, preds))\n",
    "    print(confusion_matrix(y_test, preds))"
   ]
  },
  {
   "cell_type": "code",
   "execution_count": 71,
   "metadata": {},
   "outputs": [
    {
     "name": "stderr",
     "output_type": "stream",
     "text": [
      "c:\\users\\rafe\\appdata\\local\\programs\\python\\python35-32\\lib\\site-packages\\sklearn\\linear_model\\logistic.py:433: FutureWarning: Default solver will be changed to 'lbfgs' in 0.22. Specify a solver to silence this warning.\n",
      "  FutureWarning)\n"
     ]
    },
    {
     "name": "stdout",
     "output_type": "stream",
     "text": [
      "MNB mdoel\n",
      "0.768299711815562\n",
      "[[   0  402]\n",
      " [   0 1333]]\n",
      "lr mdoel\n",
      "0.8293948126801153\n",
      "[[ 142  260]\n",
      " [  36 1297]]\n",
      "svc mdoel\n",
      "0.854178674351585\n",
      "[[ 208  194]\n",
      " [  59 1274]]\n"
     ]
    }
   ],
   "source": [
    "model_train_evaluate(df.clean_posts, df.IE)"
   ]
  },
  {
   "cell_type": "code",
   "execution_count": 72,
   "metadata": {},
   "outputs": [
    {
     "name": "stderr",
     "output_type": "stream",
     "text": [
      "c:\\users\\rafe\\appdata\\local\\programs\\python\\python35-32\\lib\\site-packages\\sklearn\\linear_model\\logistic.py:433: FutureWarning: Default solver will be changed to 'lbfgs' in 0.22. Specify a solver to silence this warning.\n",
      "  FutureWarning)\n"
     ]
    },
    {
     "name": "stdout",
     "output_type": "stream",
     "text": [
      "MNB mdoel\n",
      "0.8714697406340057\n",
      "[[1512    0]\n",
      " [ 223    0]]\n",
      "lr mdoel\n",
      "0.8927953890489914\n",
      "[[1500   12]\n",
      " [ 174   49]]\n",
      "svc mdoel\n",
      "0.8997118155619597\n",
      "[[1474   38]\n",
      " [ 136   87]]\n"
     ]
    }
   ],
   "source": [
    "model_train_evaluate(df.clean_posts, df.NS)"
   ]
  },
  {
   "cell_type": "code",
   "execution_count": 73,
   "metadata": {},
   "outputs": [
    {
     "name": "stderr",
     "output_type": "stream",
     "text": [
      "c:\\users\\rafe\\appdata\\local\\programs\\python\\python35-32\\lib\\site-packages\\sklearn\\linear_model\\logistic.py:433: FutureWarning: Default solver will be changed to 'lbfgs' in 0.22. Specify a solver to silence this warning.\n",
      "  FutureWarning)\n"
     ]
    },
    {
     "name": "stdout",
     "output_type": "stream",
     "text": [
      "MNB mdoel\n",
      "0.5752161383285302\n",
      "[[907   4]\n",
      " [733  91]]\n",
      "lr mdoel\n",
      "0.8587896253602305\n",
      "[[808 103]\n",
      " [142 682]]\n",
      "svc mdoel\n",
      "0.8432276657060519\n",
      "[[789 122]\n",
      " [150 674]]\n"
     ]
    }
   ],
   "source": [
    "model_train_evaluate(df.clean_posts, df.TF)"
   ]
  },
  {
   "cell_type": "code",
   "execution_count": 74,
   "metadata": {},
   "outputs": [
    {
     "name": "stderr",
     "output_type": "stream",
     "text": [
      "c:\\users\\rafe\\appdata\\local\\programs\\python\\python35-32\\lib\\site-packages\\sklearn\\linear_model\\logistic.py:433: FutureWarning: Default solver will be changed to 'lbfgs' in 0.22. Specify a solver to silence this warning.\n",
      "  FutureWarning)\n"
     ]
    },
    {
     "name": "stdout",
     "output_type": "stream",
     "text": [
      "MNB mdoel\n",
      "0.6138328530259366\n",
      "[[   0  670]\n",
      " [   0 1065]]\n",
      "lr mdoel\n",
      "0.813256484149856\n",
      "[[430 240]\n",
      " [ 84 981]]\n",
      "svc mdoel\n",
      "0.7907780979827089\n",
      "[[457 213]\n",
      " [150 915]]\n"
     ]
    }
   ],
   "source": [
    "model_train_evaluate(df.clean_posts, df.JP)"
   ]
  },
  {
   "cell_type": "code",
   "execution_count": 121,
   "metadata": {},
   "outputs": [
    {
     "name": "stderr",
     "output_type": "stream",
     "text": [
      "c:\\users\\rafe\\appdata\\local\\programs\\python\\python35-32\\lib\\site-packages\\sklearn\\linear_model\\logistic.py:433: FutureWarning: Default solver will be changed to 'lbfgs' in 0.22. Specify a solver to silence this warning.\n",
      "  FutureWarning)\n",
      "c:\\users\\rafe\\appdata\\local\\programs\\python\\python35-32\\lib\\site-packages\\sklearn\\linear_model\\logistic.py:460: FutureWarning: Default multi_class will be changed to 'auto' in 0.22. Specify the multi_class option to silence this warning.\n",
      "  \"this warning.\", FutureWarning)\n"
     ]
    },
    {
     "data": {
      "text/plain": [
       "Pipeline(memory=None,\n",
       "     steps=[('tfidf', TfidfVectorizer(analyzer='word', binary=False, decode_error='strict',\n",
       "        dtype=<class 'numpy.float64'>, encoding='utf-8', input='content',\n",
       "        lowercase=True, max_df=1.0, max_features=None, min_df=1,\n",
       "        ngram_range=(1, 1), norm='l2', preprocessor=None, smooth_idf=True,...penalty='l2', random_state=None, solver='warn',\n",
       "          tol=0.0001, verbose=0, warm_start=False))])"
      ]
     },
     "execution_count": 121,
     "metadata": {},
     "output_type": "execute_result"
    }
   ],
   "source": [
    "from sklearn.pipeline import Pipeline\n",
    "\n",
    "pipe = Pipeline([ ('tfidf',TfidfVectorizer()),('lr',LogisticRegression())])\n",
    "\n",
    "pipe.fit(df['clean_posts'],df['type'])"
   ]
  },
  {
   "cell_type": "code",
   "execution_count": 122,
   "metadata": {},
   "outputs": [
    {
     "name": "stdout",
     "output_type": "stream",
     "text": [
      "['INFP']\n"
     ]
    },
    {
     "data": {
      "text/plain": [
       "array([[0.01815638, 0.02417921, 0.02536509, 0.05175787, 0.0068804 ,\n",
       "        0.01001631, 0.0081203 , 0.01328112, 0.11493155, 0.46284719,\n",
       "        0.04901378, 0.08927662, 0.02445205, 0.05261949, 0.02665105,\n",
       "        0.02245159]])"
      ]
     },
     "execution_count": 122,
     "metadata": {},
     "output_type": "execute_result"
    }
   ],
   "source": [
    "new_post = 'life is so difficult. I am always sad. Trees are really the gift of nature for us'\n",
    "new_clean_post = [text_preprocess(new_post)]\n",
    "print(pipe.predict(new_clean_post))\n",
    "pipe.predict_proba(new_clean_post)"
   ]
  },
  {
   "cell_type": "code",
   "execution_count": 125,
   "metadata": {},
   "outputs": [
    {
     "name": "stdout",
     "output_type": "stream",
     "text": [
      "['INTP']\n"
     ]
    },
    {
     "data": {
      "text/plain": [
       "array([[0.01210603, 0.05027039, 0.02893345, 0.05836848, 0.00543567,\n",
       "        0.0110195 , 0.00826325, 0.01219271, 0.05320297, 0.1423023 ,\n",
       "        0.21352388, 0.28356183, 0.01554138, 0.03845242, 0.02614033,\n",
       "        0.04068542]])"
      ]
     },
     "execution_count": 125,
     "metadata": {},
     "output_type": "execute_result"
    }
   ],
   "source": [
    "new_post = 'I love systems. Life is like a chess game. system should be improved. efficiency and optimization are different'\n",
    "new_clean_post = [text_preprocess(new_post)]\n",
    "print(pipe.predict(new_clean_post))\n",
    "pipe.predict_proba(new_clean_post)"
   ]
  },
  {
   "cell_type": "code",
   "execution_count": 92,
   "metadata": {},
   "outputs": [],
   "source": [
    "intj = '''These personalities can be both the boldest of dreamers and the bitterest of pessimists. Architects believe that, through willpower and intelligence, they can achieve even the most challenging of goals. But they may be cynical about human nature more generally, assuming that most people are lazy, unimaginative, or simply doomed to mediocrity.\n",
    "Architects derive much of their self-esteem from their knowledge and mental acuity. In school, people with this personality type may have been called “bookworms” or “nerds.” But rather than taking these labels as insults, many Architects embrace them. They are confident in their ability to teach themselves about – and master – any topic that interests them, whether that’s coding or capoeira or classical music.'''\n",
    "\n",
    "intp = '''Logicians love to analyze patterns. Without necessarily knowing how they do it, people with this personality type often have a Sherlock Holmes–like knack for spotting discrepancies and irregularities. In other words, it’s a bad idea to lie to them.\n",
    "Ironically, Logicians shouldn’t always be held at their word. They rarely mean to be dishonest, but with their active minds, they sometimes overflow with ideas and theories that they haven’t thought through all the way. They may change their mind on anything from their weekend plans to a fundamental moral principle, without ever realizing that they’d appeared to have made up their mind in the first place. In addition, they are often happy to play devil’s advocate in order to keep an interesting discussion humming along.'''\n",
    "\n",
    "entj = '''If there’s anything Commanders love, it’s a good challenge, big or small, and they firmly believe that given enough time and resources, they can achieve any goal. This quality makes people with the Commander personality type brilliant entrepreneurs, and their ability to think strategically and hold a long-term focus while executing each step of their plans with determination and precision makes them powerful business leaders. This determination is often a self-fulfilling prophecy, as Commanders push their goals through with sheer willpower where others might give up and move on, and their Extraverted (E) nature means they are likely to push everyone else right along with them, achieving spectacular results in the process.'''\n",
    "\n",
    "entp = '''Taking a certain pleasure in being the underdog, Debaters enjoy the mental exercise found in questioning the prevailing mode of thought, making them irreplaceable in reworking existing systems or shaking things up and pushing them in clever new directions. However, they’ll be miserable managing the day-to-day mechanics of actually implementing their suggestions. Debater personalities love to brainstorm and think big, but they will avoid getting caught doing the “grunt work” at all costs. Debaters only make up about three percent of the population, which is just right, as it lets them create original ideas, then step back to let more numerous and fastidious personalities handle the logistics of implementation and maintenance.\n",
    "Debaters’ capacity for debate can be a vexing one – while often appreciated when it’s called for, it can fall painfully flat when they step on others’ toes by say, openly questioning their boss in a meeting, or picking apart everything their significant other says. This is further complicated by Debaters’ unyielding honesty, as this type doesn’t mince words and cares little about being seen as sensitive or compassionate. Likeminded types get along well enough with people with the Debater personality type, but more sensitive types, and society in general, are often conflict-averse, preferring feelings, comfort, and even white lies over unpleasant truths and hard rationality.'''\n",
    "\n",
    "infj = '''Advocates generally strive to do what’s right – and they want to help create a world where others do the right thing as well. People with this personality type may feel called to use their strengths – including creativity, imagination, and sensitivity – to uplift others and spread compassion. Concepts like egalitarianism and karma can mean a great deal to Advocates.\n",
    "Advocates may be reserved, but they communicate in a way that is warm and sensitive. This emotional honesty and insight can make a powerful impression on the people around them.\n",
    "Advocates value deep, authentic relationships with others, and they tend to take great care with other people’s feelings. That said, these personalities also need to prioritize reconnecting with themselves. Advocates need to take some time alone now and then to decompress, recharge, and process their thoughts and feelings.'''\n",
    "\n",
    "infp = '''Empathy is among this personality type’s greatest gifts, but at times it can be a liability. The troubles of the world weigh heavily on Mediators’ shoulders, and these personalities can be vulnerable to internalizing other people’s negative moods or mindsets. Unless they learn to set boundaries, Mediators may feel overwhelmed by just how many wrongs there are that need to be set right. People with this personality type tend to feel directionless or stuck until they connect with a sense of purpose for their lives. For many Mediators, this purpose has something to do with uplifting others and their ability to feel other people’s suffering as if it were their own. While Mediators want to help everyone, they need to focus their energy and efforts – otherwise, they can end up exhausted.'''\n",
    "\n",
    "enfj = '''Protagonists tend to be vocal about their values, including authenticity and altruism. When something strikes them as unjust or wrong, they speak up. But they rarely come across as brash or pushy, as their sensitivity and insight guide them to speak in ways that resonate with others.\n",
    "These personality types have an uncanny ability to pick up on people’s underlying motivations and beliefs. At times, they may not even understand how they come to grasp another person’s mind and heart so quickly. These flashes of insight can make Protagonists incredibly persuasive and inspiring communicators.Protagonists’ secret weapon is their purity of intent. Generally speaking, they are motivated by a sincere wish to do the right thing rather than a desire to manipulate or have power over other people. Even when they disagree with someone, Protagonists search for common ground. The result is that people with this personality type can communicate with an eloquence and sensitivity that are nearly impossible to ignore – particularly when they speak about matters that are close to their hearts.'''\n",
    "\n",
    "enfp = '''Friendly and outgoing, Campaigners are devoted to enriching their relationships and their social lives. But beneath their sociable, easygoing exteriors, they have rich, vibrant inner lives as well. Without a healthy dose of imagination, creativity, and curiosity, a Campaigner simply wouldn’t be a Campaigner.\n",
    "In their unique way, Campaigners can be quite introspective. They can’t help but ponder the deeper meaning and significance of life – even when they should be paying attention to something else. These personalities believe that everything – and everyone – is connected, and they live for the glimmers of insight that they can gain into these connections.'''\n",
    "\n",
    "\n",
    "\n",
    "tex_lis = [intj, intp, entj, entp, infj, infp, enfj, enfp]"
   ]
  },
  {
   "cell_type": "code",
   "execution_count": 133,
   "metadata": {},
   "outputs": [],
   "source": [
    "pipe_classes = ['ENFJ', 'ENFP', 'ENTJ', 'ENTP', 'ESFJ', 'ESFP', 'ESTJ', 'ESTP',\n",
    "       'INFJ', 'INFP', 'INTJ', 'INTP', 'ISFJ', 'ISFP', 'ISTJ', 'ISTP']"
   ]
  },
  {
   "cell_type": "code",
   "execution_count": 158,
   "metadata": {},
   "outputs": [
    {
     "name": "stdout",
     "output_type": "stream",
     "text": [
      "['INTP']\n",
      "[(27.07, 'INTP'), (21.13, 'INTJ'), (12.46, 'INFP'), (8.88, 'INFJ')]\n",
      "['INTP']\n",
      "[(26.42, 'INTP'), (19.85, 'INTJ'), (14.82, 'INFJ'), (9.09, 'ENTP')]\n",
      "['INTJ']\n",
      "[(22.64, 'INTJ'), (14.0, 'INTP'), (11.47, 'INFJ'), (10.49, 'ENTP')]\n",
      "['INTP']\n",
      "[(19.15, 'INTP'), (16.54, 'INTJ'), (14.82, 'ENTP'), (11.92, 'INFP')]\n",
      "['INFP']\n",
      "[(25.56, 'INFP'), (24.42, 'INFJ'), (9.32, 'INTP'), (8.1, 'INTJ')]\n",
      "['INFP']\n",
      "[(21.83, 'INFP'), (21.25, 'INFJ'), (12.81, 'INTJ'), (9.96, 'INTP')]\n",
      "['INFJ']\n",
      "[(23.44, 'INFJ'), (18.56, 'INFP'), (13.37, 'INTJ'), (11.79, 'INTP')]\n",
      "['INFP']\n",
      "[(20.69, 'INFP'), (17.36, 'INFJ'), (15.52, 'INTP'), (13.35, 'INTJ')]\n"
     ]
    }
   ],
   "source": [
    "for tex in tex_lis:\n",
    "    new_clean_post = [text_preprocess(tex)]\n",
    "    print(pipe.predict(new_clean_post))\n",
    "    class_probs = np.round(((pipe.predict_proba(new_clean_post)[0]))*100, 2)\n",
    "    type_probs = sorted(list(zip(class_probs,pipe_classes)), reverse=True) \n",
    "    print(type_probs[:4])"
   ]
  },
  {
   "cell_type": "markdown",
   "metadata": {},
   "source": [
    "The Output is showing almost only INTP, INTJ, INFP, INFJ, and ENTP. Looks like there is problem due to Imbalanced Dataset. Let's check the distribution again.."
   ]
  },
  {
   "cell_type": "code",
   "execution_count": 159,
   "metadata": {},
   "outputs": [
    {
     "data": {
      "text/plain": [
       "<matplotlib.axes._subplots.AxesSubplot at 0x188c9bb0>"
      ]
     },
     "execution_count": 159,
     "metadata": {},
     "output_type": "execute_result"
    },
    {
     "data": {
      "image/png": "[encoded data removed]",
      "text/plain": [
       "<Figure size 576x288 with 1 Axes>"
      ]
     },
     "metadata": {},
     "output_type": "display_data"
    }
   ],
   "source": [
    "plt.figure(figsize=(8,4))\n",
    "sns.countplot(df.type)"
   ]
  },
  {
   "cell_type": "code",
   "execution_count": null,
   "metadata": {},
   "outputs": [],
   "source": [
    "def text_preprocess(x):\n",
    "  x = x.lower()\n",
    "  x = ' '.join([word for word in x.split(' ') if word not in stop_words])\n",
    "  x = x.encode('ascii', 'ignore').decode()\n",
    "  x = re.sub(r'https*\\S+', ' ', x)   # removing links\n",
    "  x = re.sub(r'@\\S+', ' ', x)      # removing mentions\n",
    "  x = re.sub(r'#\\S+', ' ', x)    # removing hashtags\n",
    "  x = re.sub(r'\\'\\w+', '', x)   # removing ticks and next character\n",
    "  x = re.sub('[%s]' % re.escape(string.punctuation), ' ', x)  # removing punctuations\n",
    "  x = re.sub(r'\\w*\\d+\\w*', '', x)    # removing numbers\n",
    "  x = re.sub(r'\\s{2,}', ' ', x)   # removing extra spaces\n",
    "  x = ' '.join([PS.stem(word) for word in x.split(' ')])\n",
    "  return x"
   ]
  },
  {
   "cell_type": "code",
   "execution_count": null,
   "metadata": {},
   "outputs": [],
   "source": []
  },
  {
   "cell_type": "code",
   "execution_count": null,
   "metadata": {},
   "outputs": [],
   "source": [
    "df.groupby('IE')."
   ]
  },
  {
   "cell_type": "code",
   "execution_count": null,
   "metadata": {},
   "outputs": [],
   "source": []
  },
  {
   "cell_type": "code",
   "execution_count": null,
   "metadata": {},
   "outputs": [],
   "source": []
  },
  {
   "cell_type": "code",
   "execution_count": null,
   "metadata": {},
   "outputs": [],
   "source": []
  },
  {
   "cell_type": "code",
   "execution_count": null,
   "metadata": {},
   "outputs": [],
   "source": []
  },
  {
   "cell_type": "code",
   "execution_count": null,
   "metadata": {},
   "outputs": [],
   "source": []
  },
  {
   "cell_type": "code",
   "execution_count": null,
   "metadata": {},
   "outputs": [],
   "source": []
  },
  {
   "cell_type": "code",
   "execution_count": null,
   "metadata": {},
   "outputs": [],
   "source": []
  },
  {
   "cell_type": "code",
   "execution_count": null,
   "metadata": {},
   "outputs": [],
   "source": []
  },
  {
   "cell_type": "code",
   "execution_count": null,
   "metadata": {},
   "outputs": [],
   "source": []
  },
  {
   "cell_type": "code",
   "execution_count": null,
   "metadata": {},
   "outputs": [],
   "source": []
  },
  {
   "cell_type": "code",
   "execution_count": null,
   "metadata": {},
   "outputs": [],
   "source": []
  },
  {
   "cell_type": "code",
   "execution_count": null,
   "metadata": {},
   "outputs": [],
   "source": []
  },
  {
   "cell_type": "code",
   "execution_count": null,
   "metadata": {},
   "outputs": [],
   "source": []
  },
  {
   "cell_type": "code",
   "execution_count": 95,
   "metadata": {},
   "outputs": [
    {
     "data": {
      "text/plain": [
       "dict_keys(['INTP', 'ESFJ', 'ENTJ', 'INFP', 'ENFJ', 'ISTJ', 'ISFP', 'INFJ', 'ENTP', 'ESFP', 'INTJ', 'ESTP', 'ISTP', 'ENFP', 'ESTJ', 'ISFJ'])"
      ]
     },
     "execution_count": 95,
     "metadata": {},
     "output_type": "execute_result"
    }
   ],
   "source": [
    "type_list = ['INFJ', 'ENTP', 'INTP', 'INTJ', 'ENTJ', 'ENFJ', 'INFP', 'ENFP',\n",
    "             'ISFP', 'ISTP', 'ISFJ', 'ISTJ', 'ESTP', 'ESFP', 'ESTJ', 'ESFJ']\n",
    "\n",
    "texts = {}\n",
    "for t in type_list:\n",
    "    data = df[df.type==t]['clean_posts']\n",
    "    text = ''.join(data.tolist())\n",
    "    texts[t] = text\n",
    "texts.keys()"
   ]
  },
  {
   "cell_type": "code",
   "execution_count": 96,
   "metadata": {},
   "outputs": [
    {
     "data": {
      "text/plain": [
       "dict"
      ]
     },
     "execution_count": 96,
     "metadata": {},
     "output_type": "execute_result"
    }
   ],
   "source": [
    "type(texts)"
   ]
  },
  {
   "cell_type": "code",
   "execution_count": 113,
   "metadata": {},
   "outputs": [
    {
     "name": "stdout",
     "output_type": "stream",
     "text": [
      "(16, 2)\n"
     ]
    },
    {
     "data": {
      "text/html": [
       "<div>\n",
       "<style scoped>\n",
       "    .dataframe tbody tr th:only-of-type {\n",
       "        vertical-align: middle;\n",
       "    }\n",
       "\n",
       "    .dataframe tbody tr th {\n",
       "        vertical-align: top;\n",
       "    }\n",
       "\n",
       "    .dataframe thead th {\n",
       "        text-align: right;\n",
       "    }\n",
       "</style>\n",
       "<table border=\"1\" class=\"dataframe\">\n",
       "  <thead>\n",
       "    <tr style=\"text-align: right;\">\n",
       "      <th></th>\n",
       "      <th>type</th>\n",
       "      <th>post</th>\n",
       "    </tr>\n",
       "  </thead>\n",
       "  <tbody>\n",
       "    <tr>\n",
       "      <th>0</th>\n",
       "      <td>ENFJ</td>\n",
       "      <td>o i went break month ago togeth year plan lif...</td>\n",
       "    </tr>\n",
       "    <tr>\n",
       "      <th>1</th>\n",
       "      <td>ENFP</td>\n",
       "      <td>want go trip without me stay behind option hi...</td>\n",
       "    </tr>\n",
       "    <tr>\n",
       "      <th>2</th>\n",
       "      <td>ENTJ</td>\n",
       "      <td>fire that anoth silli misconcept approach log...</td>\n",
       "    </tr>\n",
       "    <tr>\n",
       "      <th>3</th>\n",
       "      <td>ENTP</td>\n",
       "      <td>find lack post alarm sex bore posit often exa...</td>\n",
       "    </tr>\n",
       "    <tr>\n",
       "      <th>4</th>\n",
       "      <td>ESFJ</td>\n",
       "      <td>not ani esfj origin mistyp nfp think that inc...</td>\n",
       "    </tr>\n",
       "  </tbody>\n",
       "</table>\n",
       "</div>"
      ],
      "text/plain": [
       "   type                                               post\n",
       "0  ENFJ   o i went break month ago togeth year plan lif...\n",
       "1  ENFP   want go trip without me stay behind option hi...\n",
       "2  ENTJ   fire that anoth silli misconcept approach log...\n",
       "3  ENTP   find lack post alarm sex bore posit often exa...\n",
       "4  ESFJ   not ani esfj origin mistyp nfp think that inc..."
      ]
     },
     "execution_count": 113,
     "metadata": {},
     "output_type": "execute_result"
    }
   ],
   "source": [
    "data = pd.Series(texts)\n",
    "data = pd.DataFrame(data, columns=['post'])\n",
    "data = data.reset_index()\n",
    "data.columns = ['type', 'post']\n",
    "print(data.shape)\n",
    "data.head()"
   ]
  },
  {
   "cell_type": "code",
   "execution_count": null,
   "metadata": {},
   "outputs": [],
   "source": [
    "data."
   ]
  },
  {
   "cell_type": "code",
   "execution_count": null,
   "metadata": {},
   "outputs": [],
   "source": []
  },
  {
   "cell_type": "code",
   "execution_count": null,
   "metadata": {},
   "outputs": [],
   "source": []
  },
  {
   "cell_type": "markdown",
   "metadata": {},
   "source": [
    "## Detailed Analysis"
   ]
  },
  {
   "cell_type": "code",
   "execution_count": 158,
   "metadata": {},
   "outputs": [
    {
     "ename": "MemoryError",
     "evalue": "",
     "output_type": "error",
     "traceback": [
      "\u001b[1;31m---------------------------------------------------------------------------\u001b[0m",
      "\u001b[1;31mMemoryError\u001b[0m                               Traceback (most recent call last)",
      "\u001b[1;32m<ipython-input-158-5f33c7fc3faa>\u001b[0m in \u001b[0;36m<module>\u001b[1;34m()\u001b[0m\n\u001b[0;32m      1\u001b[0m \u001b[0mpair_text\u001b[0m \u001b[1;33m=\u001b[0m \u001b[1;33m{\u001b[0m\u001b[1;33m}\u001b[0m\u001b[1;33m\u001b[0m\u001b[0m\n\u001b[0;32m      2\u001b[0m \u001b[1;33m\u001b[0m\u001b[0m\n\u001b[1;32m----> 3\u001b[1;33m \u001b[0mpair_text\u001b[0m\u001b[1;33m[\u001b[0m\u001b[1;34m'I'\u001b[0m\u001b[1;33m]\u001b[0m \u001b[1;33m=\u001b[0m \u001b[1;34m''\u001b[0m\u001b[1;33m.\u001b[0m\u001b[0mjoin\u001b[0m\u001b[1;33m(\u001b[0m\u001b[0mdf\u001b[0m\u001b[1;33m[\u001b[0m\u001b[0mdf\u001b[0m\u001b[1;33m.\u001b[0m\u001b[0mIE\u001b[0m \u001b[1;33m==\u001b[0m \u001b[1;34m'I'\u001b[0m\u001b[1;33m]\u001b[0m\u001b[1;33m[\u001b[0m\u001b[1;34m'posts'\u001b[0m\u001b[1;33m]\u001b[0m\u001b[1;33m)\u001b[0m\u001b[1;33m\u001b[0m\u001b[0m\n\u001b[0m\u001b[0;32m      4\u001b[0m \u001b[0mpair_text\u001b[0m\u001b[1;33m[\u001b[0m\u001b[1;34m'E'\u001b[0m\u001b[1;33m]\u001b[0m \u001b[1;33m=\u001b[0m \u001b[1;34m''\u001b[0m\u001b[1;33m.\u001b[0m\u001b[0mjoin\u001b[0m\u001b[1;33m(\u001b[0m\u001b[0mdf\u001b[0m\u001b[1;33m[\u001b[0m\u001b[0mdf\u001b[0m\u001b[1;33m.\u001b[0m\u001b[0mIE\u001b[0m \u001b[1;33m==\u001b[0m \u001b[1;34m'E'\u001b[0m\u001b[1;33m]\u001b[0m\u001b[1;33m[\u001b[0m\u001b[1;34m'posts'\u001b[0m\u001b[1;33m]\u001b[0m\u001b[1;33m)\u001b[0m\u001b[1;33m\u001b[0m\u001b[0m\n\u001b[0;32m      5\u001b[0m \u001b[0mpair_text\u001b[0m\u001b[1;33m[\u001b[0m\u001b[1;34m'N'\u001b[0m\u001b[1;33m]\u001b[0m \u001b[1;33m=\u001b[0m \u001b[1;34m''\u001b[0m\u001b[1;33m.\u001b[0m\u001b[0mjoin\u001b[0m\u001b[1;33m(\u001b[0m\u001b[0mdf\u001b[0m\u001b[1;33m[\u001b[0m\u001b[0mdf\u001b[0m\u001b[1;33m.\u001b[0m\u001b[0mNS\u001b[0m \u001b[1;33m==\u001b[0m \u001b[1;34m'N'\u001b[0m\u001b[1;33m]\u001b[0m\u001b[1;33m[\u001b[0m\u001b[1;34m'posts'\u001b[0m\u001b[1;33m]\u001b[0m\u001b[1;33m)\u001b[0m\u001b[1;33m\u001b[0m\u001b[0m\n",
      "\u001b[1;31mMemoryError\u001b[0m: "
     ]
    }
   ],
   "source": [
    "pair_text = {}\n",
    "\n",
    "pair_text['I'] = ''.join(df[df.IE == 'I']['posts']) \n",
    "pair_text['E'] = ''.join(df[df.IE == 'E']['posts']) \n",
    "pair_text['N'] = ''.join(df[df.NS == 'N']['posts']) \n",
    "pair_text['S'] = ''.join(df[df.NS == 'S']['posts']) \n",
    "pair_text['T'] = ''.join(df[df.TF == 'T']['posts']) \n",
    "pair_text['F'] = ''.join(df[df.TF == 'F']['posts']) \n",
    "pair_text['J'] = ''.join(df[df.JP == 'J']['posts']) \n",
    "pair_text['P'] = ''.join(df[df.JP == 'P']['posts']) "
   ]
  },
  {
   "cell_type": "code",
   "execution_count": 157,
   "metadata": {},
   "outputs": [],
   "source": []
  }
 ],
 "metadata": {
  "kernelspec": {
   "display_name": "Python 3",
   "language": "python",
   "name": "python3"
  },
  "language_info": {
   "codemirror_mode": {
    "name": "ipython",
    "version": 3
   },
   "file_extension": ".py",
   "mimetype": "text/x-python",
   "name": "python",
   "nbconvert_exporter": "python",
   "pygments_lexer": "ipython3",
   "version": "3.5.0"
  }
 },
 "nbformat": 4,
 "nbformat_minor": 2
}
